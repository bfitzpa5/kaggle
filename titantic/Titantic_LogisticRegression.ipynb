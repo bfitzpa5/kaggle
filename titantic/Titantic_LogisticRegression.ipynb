{
 "cells": [
  {
   "cell_type": "code",
   "execution_count": null,
   "metadata": {
    "collapsed": true
   },
   "outputs": [],
   "source": [
    "import pandas as pd\n",
    "import numpy as np\n",
    "import pickle\n",
    "from sklearn.model_selection import train_test_split\n",
    "\n",
    "pd.set_option(\"display.max_rows\",10)"
   ]
  },
  {
   "cell_type": "code",
   "execution_count": null,
   "metadata": {},
   "outputs": [],
   "source": [
    "df = pd.read_pickle(\"train_cleaned.pkl\")"
   ]
  },
  {
   "cell_type": "code",
   "execution_count": null,
   "metadata": {
    "collapsed": true
   },
   "outputs": [],
   "source": [
    "X = df.drop(['Survived','Name','Ticket'],axis=1).set_index('PassengerId')\n",
    "y = df[['PassengerId','Survived']].set_index('PassengerId')"
   ]
  },
  {
   "cell_type": "code",
   "execution_count": null,
   "metadata": {},
   "outputs": [],
   "source": [
    "X_train, X_test, y_train, y_test = train_test_split(X, y, \n",
    "                                                    test_size=0.4,\n",
    "                                                    random_state=None)"
   ]
  },
  {
   "cell_type": "markdown",
   "metadata": {},
   "source": [
    "### First Logistic Regression Model"
   ]
  },
  {
   "cell_type": "code",
   "execution_count": null,
   "metadata": {},
   "outputs": [],
   "source": [
    "from sklearn.linear_model import LogisticRegression\n",
    "logreg = LogisticRegression(C=10000)\n",
    "logreg.fit(X_train, y_train.iloc[:,0])"
   ]
  },
  {
   "cell_type": "code",
   "execution_count": null,
   "metadata": {},
   "outputs": [],
   "source": [
    "accuracy_train = logreg.score(X_train, y_train)\n",
    "accuracy_test = logreg.score(X_test, y_test)\n",
    "print(\"Train Score = %.4f\\nTest Score = %.3f\\n\" % (accuracy_train, accuracy_test))"
   ]
  },
  {
   "cell_type": "code",
   "execution_count": null,
   "metadata": {},
   "outputs": [],
   "source": [
    "np.set_printoptions(precision=3)\n",
    "\n",
    "print('n_inter:\\t\\t\\t\\t', logreg.n_iter_[0])\n",
    "print('classes:\\t\\t\\t\\t', logreg.classes_[0])\n",
    "print('intercepts:\\t\\t\\t\\t', logreg.intercept_[0])\n",
    "featureList = list(X_train.columns)\n",
    "coefList = logreg.coef_.tolist()\n",
    "for i,feature in enumerate(featureList):\n",
    "    print(feature,\"coefficient:\\t\", coefList[0][i])"
   ]
  },
  {
   "cell_type": "code",
   "execution_count": null,
   "metadata": {},
   "outputs": [],
   "source": [
    "X.values"
   ]
  },
  {
   "cell_type": "markdown",
   "metadata": {},
   "source": [
    "### Plot Decision Boundry for Age and Fare"
   ]
  },
  {
   "cell_type": "code",
   "execution_count": null,
   "metadata": {},
   "outputs": [],
   "source": [
    "from matplotlib import pylab as plt\n",
    "%matplotlib inline\n",
    "\n",
    "def plotDecisionBoundary(X, y, model, xlabel, ylabel):\n",
    "    Q = X[[xlabel,ylabel]].values\n",
    "    h = .02 # meshsize\n",
    "    x_min, x_max = Q[:,0].min() - .5, Q[:,0].max() + .5\n",
    "    y_min, y_max = Q[:,1].min() - .5, Q[:,1].max() + .5\n",
    "    xx, yy = np.meshgrid(np.arange(x_min, x_max, h), np.arange(y_min, y_max, h))\n",
    "    \n",
    "    model.fit(X[[xlabel, ylabel]],y.iloc[:,0])\n",
    "    Z = model.predict(np.c_[xx.ravel(), yy.ravel()])\n",
    "    \n",
    "    # Put the result into a color plot\n",
    "    Z = Z.reshape(xx.shape)\n",
    "    plt.figure(1, figsize=(8,6))\n",
    "    plt.pcolormesh(xx, yy, Z, cmap=plt.cm.Paired)\n",
    "    \n",
    "    # Plot also the training points\n",
    "    plt.scatter(Q[:,0], Q[:,1], c=y, edgecolors='k',cmap=plt.cm.Paired)\n",
    "    plt.title('Decision Boundaries with '+xlabel+\" and \"+ylabel)\n",
    "    plt.xlabel(xlabel)\n",
    "    plt.ylabel(ylabel)\n",
    "    \n",
    "    plt.xlim(xx.min(),xx.max())\n",
    "    plt.ylim(yy.min(),yy.max())\n",
    "    plt.xticks(())\n",
    "    plt.yticks(())\n",
    "    \n",
    "plotDecisionBoundary(X_train,y_train,LogisticRegression(),'Age','Fare')"
   ]
  }
 ],
 "metadata": {
  "kernelspec": {
   "display_name": "Python 3",
   "language": "python",
   "name": "python3"
  },
  "language_info": {
   "codemirror_mode": {
    "name": "ipython",
    "version": 3
   },
   "file_extension": ".py",
   "mimetype": "text/x-python",
   "name": "python",
   "nbconvert_exporter": "python",
   "pygments_lexer": "ipython3",
   "version": "3.6.3"
  }
 },
 "nbformat": 4,
 "nbformat_minor": 2
}
